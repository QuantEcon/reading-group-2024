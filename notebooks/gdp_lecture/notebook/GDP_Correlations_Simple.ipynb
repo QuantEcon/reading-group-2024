{
 "cells": [
  {
   "cell_type": "markdown",
   "id": "KokuaiaoveOs",
   "metadata": {
    "id": "KokuaiaoveOs"
   },
   "source": [
    "# **Lecture Draft: Why Study GDP?**"
   ]
  },
  {
   "cell_type": "markdown",
   "id": "d13f076c",
   "metadata": {
    "id": "d13f076c"
   },
   "source": [
    "This lecture will use Python, pandas, and matplotlib to introduce GDP as an economic concept by identifying some of the factors using correlations."
   ]
  },
  {
   "cell_type": "code",
   "execution_count": null,
   "id": "6ef537d1",
   "metadata": {
    "colab": {
     "base_uri": "https://localhost:8080/"
    },
    "executionInfo": {
     "elapsed": 15443,
     "status": "ok",
     "timestamp": 1708491637207,
     "user": {
      "displayName": "Margaret",
      "userId": "11058491644087038495"
     },
     "user_tz": 300
    },
    "id": "6ef537d1",
    "outputId": "f7194aa1-4aa6-4111-c5b8-181c6f7d9188"
   },
   "outputs": [],
   "source": [
    "!pip install wbgapi\n",
    "!pip install pandas-datareader"
   ]
  },
  {
   "cell_type": "code",
   "execution_count": null,
   "id": "w6hB1LRoBWfB",
   "metadata": {
    "executionInfo": {
     "elapsed": 5,
     "status": "ok",
     "timestamp": 1708491671888,
     "user": {
      "displayName": "Margaret",
      "userId": "11058491644087038495"
     },
     "user_tz": 300
    },
    "id": "w6hB1LRoBWfB"
   },
   "outputs": [],
   "source": [
    "import os\n",
    "import pandas as pd\n",
    "import matplotlib.pyplot as plt\n",
    "import matplotlib.cm as cm\n",
    "import numpy as np\n",
    "from collections import namedtuple\n",
    "import datetime\n",
    "import pandas_datareader.data as web\n",
    "import scipy\n",
    "\n",
    "import plotly.express as px\n",
    "\n",
    "import wbgapi as wb\n",
    "\n",
    "import pandas_datareader.data as web"
   ]
  },
  {
   "cell_type": "code",
   "execution_count": null,
   "id": "7I7IvjxzfFpF",
   "metadata": {
    "colab": {
     "base_uri": "https://localhost:8080/"
    },
    "executionInfo": {
     "elapsed": 775,
     "status": "ok",
     "timestamp": 1708491639156,
     "user": {
      "displayName": "Margaret",
      "userId": "11058491644087038495"
     },
     "user_tz": 300
    },
    "id": "7I7IvjxzfFpF",
    "outputId": "eab6fada-0a70-4c86-ad1d-5cace8bd79d4"
   },
   "outputs": [],
   "source": [
    "from google.colab import drive\n",
    "drive.mount('/content/drive')"
   ]
  },
  {
   "cell_type": "code",
   "execution_count": null,
   "id": "lMFEKk_YBt0T",
   "metadata": {
    "executionInfo": {
     "elapsed": 3,
     "status": "ok",
     "timestamp": 1708491639156,
     "user": {
      "displayName": "Margaret",
      "userId": "11058491644087038495"
     },
     "user_tz": 300
    },
    "id": "lMFEKk_YBt0T"
   },
   "outputs": [],
   "source": [
    "# Set the working directory\n",
    "os.chdir(\"/content/drive/MyDrive/gdp_lecture\")"
   ]
  },
  {
   "cell_type": "markdown",
   "id": "0f1eaf97",
   "metadata": {
    "id": "0f1eaf97"
   },
   "source": [
    "# 1 What is GDP\n",
    "\n",
    "## 1.1 Overview\n",
    "\n",
    "Gross Domestic Product (`GDP`) is the primary indicator used to exmine the economic performance of a country, measuring the total market value of all goods and services produced within a country over a specified period.\n",
    "\n",
    "GDP is usually analysed in two forms: Nominal GDP, which is valued at current market prices, and Real GDP, which is adjusted for inflation to reflect the true economic growth. Nominal GDP can be adjust to Real GDP using the formula: `Real GDP = Nominal GDP x (Price level in base year ÷ Price level in current year)`.\n",
    "\n",
    "The following graph presents a visual comparison between Nominal GDP and Real GDP per quarter over time in the United States:\n"
   ]
  },
  {
   "cell_type": "code",
   "execution_count": null,
   "id": "56009746",
   "metadata": {
    "colab": {
     "base_uri": "https://localhost:8080/",
     "height": 564
    },
    "executionInfo": {
     "elapsed": 788,
     "status": "ok",
     "timestamp": 1708491639942,
     "user": {
      "displayName": "Margaret",
      "userId": "11058491644087038495"
     },
     "user_tz": 300
    },
    "id": "56009746",
    "outputId": "f0a11962-f931-4098-a1c4-b6f3c573b01c"
   },
   "outputs": [],
   "source": [
    "start_date = datetime.datetime(2017, 4, 1)\n",
    "end_date = datetime.datetime(2024, 1, 1)\n",
    "\n",
    "nominal_gdp = web.DataReader('GDP', 'fred', start_date, end_date)\n",
    "real_gdp = web.DataReader('GDPC1', 'fred', start_date, end_date)\n",
    "\n",
    "plt.figure(figsize=(10, 6))\n",
    "plt.plot(nominal_gdp.index, nominal_gdp['GDP'], label='Nominal GDP')\n",
    "plt.plot(real_gdp.index, real_gdp['GDPC1'], label='Real GDP', linestyle='--')\n",
    "\n",
    "plt.title('Nominal vs. Real GDP of US (1949 - 2023)')\n",
    "plt.xlabel('Year')\n",
    "plt.ylabel('Billions of Dollars / Billions of Chained 2017 Dollars')\n",
    "plt.legend()\n",
    "plt.show()"
   ]
  },
  {
   "cell_type": "markdown",
   "id": "75cd8bdf",
   "metadata": {
    "id": "75cd8bdf"
   },
   "source": [
    "Source: Federal Reserve Economic Data (St. Louis Fed)"
   ]
  },
  {
   "cell_type": "markdown",
   "id": "00793855",
   "metadata": {
    "id": "00793855"
   },
   "source": [
    "Real GDP is measured in \"billions of chained 2017 dollars\",which is a dollar measure that is adjusted for the price change due to inflation and consumer behaviour within the year of 2017. Here are some interesting observations:\n",
    "\n",
    "- Both Nominal and Real GDP displayed increasing trend since 2017.\n",
    "- Nominal GDP growth outpaced Real GDP indicating inflation's role as a contributing factor.\n",
    "- 2020 saw GDP drops due to the COVID-19 pandemic, respectively. This crisis led to significant GDP contractions, evident in downturn around 2020 on the graph."
   ]
  },
  {
   "cell_type": "markdown",
   "id": "d26af60d",
   "metadata": {
    "id": "d26af60d"
   },
   "source": [
    "## 1.2 GDP vs. GDP per Capita\n",
    "\n",
    "GDP per capita can be calculated using the formula `GDP per capita = GDP ÷ population`.\n",
    "\n",
    "GDP per capital is often a more useful indicator of economic well-being and quality of life. This adjustment also allows comparison of economic well-being across countries with vastly different population sizes.\n",
    "\n",
    "Consider the following graph of GDP per capita vs. GDP of most countries:  "
   ]
  },
  {
   "cell_type": "code",
   "execution_count": null,
   "id": "6dd2b0c7",
   "metadata": {
    "colab": {
     "base_uri": "https://localhost:8080/",
     "height": 638
    },
    "executionInfo": {
     "elapsed": 471,
     "status": "ok",
     "timestamp": 1708491640407,
     "user": {
      "displayName": "Margaret",
      "userId": "11058491644087038495"
     },
     "user_tz": 300
    },
    "id": "6dd2b0c7",
    "outputId": "43e9bcbe-b099-4a1e-c119-8c50d7670f2f"
   },
   "outputs": [],
   "source": [
    "wb.series.info(q='GDP')"
   ]
  },
  {
   "cell_type": "code",
   "execution_count": null,
   "id": "c8930064",
   "metadata": {
    "colab": {
     "base_uri": "https://localhost:8080/",
     "height": 542
    },
    "executionInfo": {
     "elapsed": 1624,
     "status": "ok",
     "timestamp": 1708491648383,
     "user": {
      "displayName": "Margaret",
      "userId": "11058491644087038495"
     },
     "user_tz": 300
    },
    "id": "c8930064",
    "outputId": "d6a08f44-f3d9-4894-de7d-6c4ef24109cf"
   },
   "outputs": [],
   "source": [
    "data = pd.read_excel('GDP.xlsx', sheet_name='Full Data')\n",
    "\n",
    "fig = px.scatter(data, x='GDP per capita', y='GDP',\n",
    "                 hover_name='Country Name', title='GDP per capita vs GDP')\n",
    "\n",
    "\n",
    "fig.update_layout(\n",
    "    xaxis_title=\"GDP per capita ($ thousands)\",\n",
    "    yaxis_title=\"GDP ($ trillians)\"\n",
    ")\n",
    "\n",
    "\n",
    "fig.show()"
   ]
  },
  {
   "cell_type": "markdown",
   "id": "1d3114db",
   "metadata": {
    "id": "1d3114db"
   },
   "source": [
    "Source: The World Bank"
   ]
  },
  {
   "cell_type": "markdown",
   "id": "daaeffa2",
   "metadata": {
    "id": "daaeffa2"
   },
   "source": [
    "From this graph, we can see that:\n",
    "- A country may have a high total GDP due to its large size but a moderate GDP per capita, for example India,\n",
    "- Similarly, a country may have a low overal GDP due limited size but a high GDP per capital level driven by high production level, for example Liechtenstein and Monaco"
   ]
  },
  {
   "cell_type": "markdown",
   "id": "53942b3d",
   "metadata": {
    "id": "53942b3d"
   },
   "source": [
    "## 1.3 GDP: Ways of Calculation\n",
    "\n",
    "GDP can be calculated using three main methods: the Expenditure Method, the Income Method, and the Output Method. Each approach focuses on a different aspect of the economy's total output and income. However, in theory, all three should arrive at the same GDP figure, reflecting the circular flow of income in the economy.\n",
    "\n",
    "### 1.3.1 Expenditure Method\n",
    "\n",
    "The expenditure method calculates GDP by summing up all expenditures made on final goods and services, i.e. ones that will not be sold again as part of other goods or services, over a specific period. The formula is represented as: `GDP = C + I + G + (X - M)`\n",
    "\n",
    "where:\n",
    "- `C` stands for consumption by households,\n",
    "- `I` represents investment by firms,\n",
    "- `G` is government spending,\n",
    "- `X` represents exports, and\n",
    "- `M` stands for imports (`X - M` is net exports).\n",
    "\n",
    "\n",
    "\n",
    "### 1.3.2 Income Method\n",
    "\n",
    "The income method approaches GDP calculation by summing all incomes generated by factors of production in the economy, including wages, interest, rent, and profits. The formula can be presented as: `GDP = Total National Income + Sales Taxes + Depreciation + Net Foreign Factor Income`\n",
    "\n",
    "where\n",
    "- `Total National Income` is the sum of wages, interest, rent, and profits earned,\n",
    "- `Sales Taxes` are taxes imposed on sales of goods and services,\n",
    "- `Depreciation` is the wear and loose of value on physical assets over time,\n",
    "- `Net Foreign Factor Income` is the difference between the income a nation receive from foreign countries – payments to made foreign entities\n",
    "\n",
    "\n",
    "### 1.3.3 Output/Production Method\n",
    "\n",
    "This method calculates GDP by adding up the value added at each stage of production across all industries. The value added at each stage is the sale price minus the cost of inputs. For example, in the production of bread:\n",
    "- The farmer grows wheat and sells it at a value added of 0.1.\n",
    "- The mill buys the wheat and produces flour, adding value of 0.4.\n",
    "- The baker uses the flour to make bread, adding value of 1.0.\n",
    "- The store sells the bread, adding a final value of 1.5.\n",
    "\n",
    "The total GDP using this method would be the sum of all value added, which in this case is 0.1+0.4+1.0+1.5 = 3.0.\n",
    "\n",
    "The follow table illustrates this method in a clearer way:"
   ]
  },
  {
   "cell_type": "code",
   "execution_count": null,
   "id": "d6d39080",
   "metadata": {
    "colab": {
     "base_uri": "https://localhost:8080/"
    },
    "executionInfo": {
     "elapsed": 135,
     "status": "ok",
     "timestamp": 1708491652616,
     "user": {
      "displayName": "Margaret",
      "userId": "11058491644087038495"
     },
     "user_tz": 300
    },
    "id": "d6d39080",
    "outputId": "0d1d301b-1239-4e57-c975-42397193920e",
    "scrolled": true
   },
   "outputs": [],
   "source": [
    "data = {\n",
    "    'Stage': ['Farmer', 'Mill', 'Baker', 'Store'],\n",
    "    'Costs': [0, 0.1, 0.5, 1.5],\n",
    "    'Sale Price': [0.1, 0.5, 1.5, 3.0],\n",
    "    'Value Added': [0.1, 0.4, 1.0, 1.5]\n",
    "}\n",
    "\n",
    "df = pd.DataFrame(data)\n",
    "\n",
    "\n",
    "total_value_added = df['Value Added'].sum()\n",
    "\n",
    "total_df = pd.DataFrame([{'Stage': 'Total', 'Costs': '-', 'Sale Price': '-', 'Value Added': total_value_added}])\n",
    "\n",
    "df_final = pd.concat([df, total_df], ignore_index=True)\n",
    "\n",
    "print(df_final.to_string(index=False))\n"
   ]
  },
  {
   "cell_type": "markdown",
   "id": "6eeo1h2-eDJV",
   "metadata": {
    "id": "6eeo1h2-eDJV"
   },
   "source": [
    "## 1.4 Expenditure Method: Components of GDP vs. GDP Per Capita as Correlations"
   ]
  },
  {
   "cell_type": "markdown",
   "id": "8KgF-MClgJv1",
   "metadata": {
    "id": "8KgF-MClgJv1"
   },
   "source": [
    "The collection and preprocessing of the csv files (\"gdp_components.csv\" and \"gdp_components_2.csv\") can be found here."
   ]
  },
  {
   "cell_type": "code",
   "execution_count": null,
   "id": "PQDhgkYxeShP",
   "metadata": {
    "executionInfo": {
     "elapsed": 3,
     "status": "ok",
     "timestamp": 1708491652882,
     "user": {
      "displayName": "Margaret",
      "userId": "11058491644087038495"
     },
     "user_tz": 300
    },
    "id": "PQDhgkYxeShP"
   },
   "outputs": [],
   "source": [
    "gdp_components = pd.read_csv('/content/drive/MyDrive/gdp_components_income.csv')"
   ]
  },
  {
   "cell_type": "markdown",
   "id": "ocmIX6L_gh6K",
   "metadata": {
    "id": "ocmIX6L_gh6K"
   },
   "source": [
    "#### 1.4.1 Components of GDP for User-Selected Country"
   ]
  },
  {
   "cell_type": "code",
   "execution_count": null,
   "id": "JeEr23VZwX28",
   "metadata": {
    "executionInfo": {
     "elapsed": 201,
     "status": "ok",
     "timestamp": 1708491653080,
     "user": {
      "displayName": "Margaret",
      "userId": "11058491644087038495"
     },
     "user_tz": 300
    },
    "id": "JeEr23VZwX28"
   },
   "outputs": [],
   "source": [
    "def components_of_gdp(country):\n",
    "    df = gdp_components[gdp_components['Country Name'] == country].copy()\n",
    "\n",
    "    if df['Consumer Expenditure (as % of GDP)'].notnull().any() and \\\n",
    "       df['Government Expenditure (as % of GDP)'].notnull().any() and \\\n",
    "       df['Investment Expenditure (as % of GDP)'].notnull().any() and \\\n",
    "       df['Net Exports Expenditure (as % of GDP)'].notnull().any():\n",
    "\n",
    "        df['Total Expenditure'] = df['Consumer Expenditure (as % of GDP)'] + \\\n",
    "                                  df['Government Expenditure (as % of GDP)'] + \\\n",
    "                                  df['Investment Expenditure (as % of GDP)'] + \\\n",
    "                                  df['Net Exports Expenditure (as % of GDP)']\n",
    "\n",
    "        plt.figure(figsize=(10, 6))\n",
    "\n",
    "        # Plot the stacked bar chart\n",
    "        plt.bar(df['Year'], df['Consumer Expenditure (as % of GDP)'], label='Consumer Expenditure')\n",
    "        plt.bar(df['Year'], df['Government Expenditure (as % of GDP)'], bottom=df['Consumer Expenditure (as % of GDP)'],\n",
    "                label='Government Expenditure')\n",
    "        plt.bar(df['Year'], df['Investment Expenditure (as % of GDP)'],\n",
    "                bottom=df['Consumer Expenditure (as % of GDP)'] + df['Government Expenditure (as % of GDP)'],\n",
    "                label='Investment Expenditure')\n",
    "\n",
    "        # Plot the negative bars as Trade Deficit\n",
    "        net_exports = df['Net Exports Expenditure (as % of GDP)']\n",
    "        plt.bar(df['Year'], net_exports.where(net_exports >= 0, 0),\n",
    "                bottom=df['Consumer Expenditure (as % of GDP)'] + df['Government Expenditure (as % of GDP)'] +\n",
    "                       df['Investment Expenditure (as % of GDP)'],\n",
    "                label='Trade Surplus')\n",
    "\n",
    "        # Plot the positive bars as Trade Surplus\n",
    "        plt.bar(df['Year'], net_exports.where(net_exports < 0, 0),\n",
    "                bottom=df['Consumer Expenditure (as % of GDP)'] + df['Government Expenditure (as % of GDP)'] +\n",
    "                       df['Investment Expenditure (as % of GDP)'] + net_exports.where(net_exports < 0, 0),\n",
    "                label='Trade Deficit')\n",
    "\n",
    "        plt.xlabel('Year')\n",
    "        plt.ylabel('Components of GDP (as % of GDP)')\n",
    "        plt.title(f'Components of GDP - {country}')\n",
    "        plt.legend(loc='upper left')\n",
    "\n",
    "        #Set x-ticks\n",
    "        min_year = df['Year'].min()\n",
    "        max_year = df['Year'].max()\n",
    "        x_ticks = range(min_year, max_year + 1, 5)\n",
    "        plt.xticks(x_ticks, [str(year) for year in x_ticks], rotation=45)\n",
    "\n",
    "        plt.legend(loc='upper left', bbox_to_anchor=(1, 1))\n",
    "\n",
    "        plt.show()"
   ]
  },
  {
   "cell_type": "code",
   "execution_count": null,
   "id": "kIXSj4W6wZcS",
   "metadata": {
    "colab": {
     "base_uri": "https://localhost:8080/",
     "height": 585
    },
    "executionInfo": {
     "elapsed": 1429,
     "status": "ok",
     "timestamp": 1708491654506,
     "user": {
      "displayName": "Margaret",
      "userId": "11058491644087038495"
     },
     "user_tz": 300
    },
    "id": "kIXSj4W6wZcS",
    "outputId": "8665b980-5a6a-434b-b306-08db467c150e"
   },
   "outputs": [],
   "source": [
    "components_of_gdp(country='United States')"
   ]
  },
  {
   "cell_type": "markdown",
   "id": "TK09Pg67wQE2",
   "metadata": {
    "id": "TK09Pg67wQE2"
   },
   "source": [
    "#### 1.4.1 Components of GDP vs. GDP Per Capita as Trends for User-Selected Country"
   ]
  },
  {
   "cell_type": "code",
   "execution_count": null,
   "id": "aWD6apWt1raz",
   "metadata": {
    "executionInfo": {
     "elapsed": 5,
     "status": "ok",
     "timestamp": 1708491654507,
     "user": {
      "displayName": "Margaret",
      "userId": "11058491644087038495"
     },
     "user_tz": 300
    },
    "id": "aWD6apWt1raz"
   },
   "outputs": [],
   "source": [
    "def components_of_gdp(country):\n",
    "    df = gdp_components[gdp_components['Country Name'] == country].copy()\n",
    "\n",
    "    if df['Consumer Expenditure (as % of GDP)'].notnull().any() and \\\n",
    "       df['Government Expenditure (as % of GDP)'].notnull().any() and \\\n",
    "       df['Investment Expenditure (as % of GDP)'].notnull().any() and \\\n",
    "       df['Net Exports Expenditure (as % of GDP)'].notnull().any():\n",
    "\n",
    "        fig, axs = plt.subplots(1, 2, figsize=(14, 6))\n",
    "\n",
    "        # Plot the line chart on the left for percentage difference relative to the first non-empty row\n",
    "        axs[0].plot(df['Year'], df['Consumer Expenditure (as % of GDP) % Difference (First Non-Empty)'], label='Consumer Expenditure', marker='o')\n",
    "        axs[0].plot(df['Year'], df['Government Expenditure (as % of GDP) % Difference (First Non-Empty)'], label='Government Expenditure', marker='o')\n",
    "        axs[0].plot(df['Year'], df['Investment Expenditure (as % of GDP) % Difference (First Non-Empty)'], label='Investment Expenditure', marker='o')\n",
    "        axs[0].plot(df['Year'], df['Net Exports Expenditure (as % of GDP) % Difference (First Non-Empty)'], label='Net Exports Expenditure', marker='o')\n",
    "        axs[0].set_xlabel('Year')\n",
    "        axs[0].set_ylabel('Percentage Difference (as % of GDP)')\n",
    "        axs[0].set_title(f'Percentage Difference Relative to First Non-Empty Row - {country}')\n",
    "        axs[0].legend()\n",
    "\n",
    "        # Plot the line chart on the right for percentage difference relative to the previous year\n",
    "        axs[1].plot(df['Year'], df['Consumer Expenditure (as % of GDP) % Difference (Last Year)'], label='Consumer Expenditure', marker='o')\n",
    "        axs[1].plot(df['Year'], df['Government Expenditure (as % of GDP) % Difference (Last Year)'], label='Government Expenditure', marker='o')\n",
    "        axs[1].plot(df['Year'], df['Investment Expenditure (as % of GDP) % Difference (Last Year)'], label='Investment Expenditure', marker='o')\n",
    "        axs[1].plot(df['Year'], df['Net Exports Expenditure (as % of GDP) % Difference (Last Year)'], label='Net Exports Expenditure', marker='o')\n",
    "        axs[1].set_xlabel('Year')\n",
    "        axs[1].set_ylabel('Percentage Difference (as % of GDP)')\n",
    "        axs[1].set_title(f'Percentage Difference Relative to Previous Year - {country}')\n",
    "        axs[1].legend()\n",
    "\n",
    "        plt.tight_layout()\n",
    "        plt.show()"
   ]
  },
  {
   "cell_type": "code",
   "execution_count": null,
   "id": "hwhzY9EZ1XNu",
   "metadata": {
    "colab": {
     "base_uri": "https://localhost:8080/",
     "height": 607
    },
    "executionInfo": {
     "elapsed": 1254,
     "status": "ok",
     "timestamp": 1708491655757,
     "user": {
      "displayName": "Margaret",
      "userId": "11058491644087038495"
     },
     "user_tz": 300
    },
    "id": "hwhzY9EZ1XNu",
    "outputId": "ae964ddf-5266-457c-be40-aaea37c7852a"
   },
   "outputs": [],
   "source": [
    "components_of_gdp(country='United States')"
   ]
  },
  {
   "cell_type": "markdown",
   "id": "jiMi8EBJgokg",
   "metadata": {
    "id": "jiMi8EBJgokg"
   },
   "source": [
    "#### 1.4.2 Components of GDP vs. GDP Per Capita as Correlations for User-Selected Year"
   ]
  },
  {
   "cell_type": "code",
   "execution_count": null,
   "id": "7qMa1uTvkOc-",
   "metadata": {
    "executionInfo": {
     "elapsed": 7,
     "status": "ok",
     "timestamp": 1708491655757,
     "user": {
      "displayName": "Margaret",
      "userId": "11058491644087038495"
     },
     "user_tz": 300
    },
    "id": "7qMa1uTvkOc-"
   },
   "outputs": [],
   "source": [
    "def plot_gdp_component_scatter(year):\n",
    "    # Filter the dataframe for the specific year\n",
    "    df_year = gdp_components[gdp_components['Year'] == year]\n",
    "\n",
    "    # Select the relevant columns for scatter plots\n",
    "    df_scatter = df_year[['Consumer Expenditure (as % of GDP)',\n",
    "                          'Government Expenditure (as % of GDP)',\n",
    "                          'Investment Expenditure (as % of GDP)',\n",
    "                          'Net Exports Expenditure (as % of GDP)',\n",
    "                          'GDP per capita',\n",
    "                          'Country Name',\n",
    "                          'Income Level']]\n",
    "\n",
    "    # Create a scatter plot for each GDP component\n",
    "    scatter_plots = []\n",
    "    for column in ['Consumer Expenditure (as % of GDP)',\n",
    "                   'Government Expenditure (as % of GDP)',\n",
    "                   'Investment Expenditure (as % of GDP)',\n",
    "                   'Net Exports Expenditure (as % of GDP)']:\n",
    "        fig = px.scatter(df_scatter, x='GDP per capita', y =column, color='Income Level',\n",
    "                         hover_data=['Country Name'], title=f'{column} vs GDP per capita ({year})')\n",
    "        scatter_plots.append(fig)\n",
    "\n",
    "    # Display the scatter plots\n",
    "    for fig in scatter_plots:\n",
    "        fig.show()"
   ]
  },
  {
   "cell_type": "code",
   "execution_count": null,
   "id": "Cn7wSQsp7iAn",
   "metadata": {
    "colab": {
     "base_uri": "https://localhost:8080/",
     "height": 1000
    },
    "executionInfo": {
     "elapsed": 446,
     "status": "ok",
     "timestamp": 1708491656197,
     "user": {
      "displayName": "Margaret",
      "userId": "11058491644087038495"
     },
     "user_tz": 300
    },
    "id": "Cn7wSQsp7iAn",
    "outputId": "ac66765d-f55a-4306-cf93-b13274221f0a"
   },
   "outputs": [],
   "source": [
    "plot_gdp_component_scatter(2018)"
   ]
  },
  {
   "cell_type": "markdown",
   "id": "a0f61eea",
   "metadata": {
    "id": "a0f61eea"
   },
   "source": [
    "## 2.0 GDP: Unique Factors\n",
    "Now we will explore the correlations between GDP and other socioeconomic, health and technological indicators. GDP per capita is a common proxy for understanding the standards of living in other countries, as economic health often allows other facets of a country's overall health - such as healthcare and education - to flourish. However, GDP in itself does not directly measure many important quality of life metrics such as equality of opportunity, happiness or sustainability, and as such we must be critical when generalising the standards of living in a country from GDP alone."
   ]
  },
  {
   "cell_type": "code",
   "execution_count": null,
   "id": "8763d151",
   "metadata": {
    "executionInfo": {
     "elapsed": 380,
     "status": "ok",
     "timestamp": 1708491656574,
     "user": {
      "displayName": "Margaret",
      "userId": "11058491644087038495"
     },
     "user_tz": 300
    },
    "id": "8763d151"
   },
   "outputs": [],
   "source": [
    "# Import data\n",
    "data_hdi = pd.read_excel('GDP_HDI.xlsx')\n",
    "data_gni = pd.read_excel('GDP_GNI.xlsx')\n",
    "data_lifeexp = pd.read_excel('GDP_LIFEEXP.xlsx')\n",
    "data_education = pd.read_excel('GDP_SCHOOLING.xlsx')\n",
    "data_energy = pd.read_excel('GDP_ENERGY.xlsx')\n",
    "data_mortality = pd.read_excel('GDP_MORTALITY.xlsx')\n",
    "data_gini = pd.read_excel('GDP_GINI.xlsx')"
   ]
  },
  {
   "cell_type": "markdown",
   "id": "04647469",
   "metadata": {
    "id": "04647469"
   },
   "source": [
    "### 3.1 Development: **Human Development Index (HDI)**\n",
    "The first facet we will explore is the relationship between GDP per capita and HDI (Human Development Index). [Click here](https://ourworldindata.org/grapher/human-development-index-vs-gdp-per-capita) to access the GDP per capita vs. HDI data (from Our World in Data).\n",
    "\n",
    "We will plot both the raw data as well as the data with a logarithmic line of best fit."
   ]
  },
  {
   "cell_type": "code",
   "execution_count": null,
   "id": "44a14c68",
   "metadata": {
    "colab": {
     "base_uri": "https://localhost:8080/"
    },
    "executionInfo": {
     "elapsed": 270,
     "status": "ok",
     "timestamp": 1708491682100,
     "user": {
      "displayName": "Margaret",
      "userId": "11058491644087038495"
     },
     "user_tz": 300
    },
    "id": "44a14c68",
    "outputId": "3b1c55d3-8324-471a-803a-52ff18b40871"
   },
   "outputs": [],
   "source": [
    "params, _ = scipy.optimize.curve_fit(lambda t,a,b: a+b*np.log(t),  data_hdi.gdppc,  data_hdi.HDI)\n",
    "params"
   ]
  },
  {
   "cell_type": "code",
   "execution_count": null,
   "id": "553f1216",
   "metadata": {
    "colab": {
     "base_uri": "https://localhost:8080/",
     "height": 754
    },
    "executionInfo": {
     "elapsed": 829,
     "status": "ok",
     "timestamp": 1708491682928,
     "user": {
      "displayName": "Margaret",
      "userId": "11058491644087038495"
     },
     "user_tz": 300
    },
    "id": "553f1216",
    "outputId": "9665a33a-e418-4206-9da5-c406114a4cc8"
   },
   "outputs": [],
   "source": [
    "gdppc_ind = data_hdi.gdppc.argsort()\n",
    "sorted_gdppc = data_hdi.gdppc[gdppc_ind]\n",
    "sorted_hdi = data_hdi.HDI[gdppc_ind]\n",
    "\n",
    "hdi_bestfit = -0.426 + 0.123*np.log(sorted_gdppc)\n",
    "\n",
    "\n",
    "fig, ax = plt.subplots(nrows=1, ncols=2, dpi=150, sharey=True)\n",
    "\n",
    "ax[0].plot(data_hdi.gdppc, data_hdi.HDI, 'bo', mfc='none')\n",
    "ax[0].set_ylabel('HDI')\n",
    "ax[0].set_xscale(\"log\")\n",
    "ax[1].plot(sorted_gdppc, sorted_hdi, 'bo', mfc='none',label=\"Data\")\n",
    "ax[1].plot(sorted_gdppc, hdi_bestfit,'--r',label=\"Fit\")\n",
    "ax[1].set_xscale(\"log\")\n",
    "ax[1].legend()\n",
    "fig.text(0.35, 0, 'GDP per capita (international $)', va='center', rotation='horizontal')\n",
    "fig.tight_layout()"
   ]
  },
  {
   "cell_type": "markdown",
   "id": "88fed8c5",
   "metadata": {
    "id": "88fed8c5"
   },
   "source": [
    "With the logarithmic line of best fit, we can see clearly that HDI rises approximately logarithmically with GDP per capita. GDP per capita is very closely related to GNI (gross national income) per capita in both definition and calculation, and GNI per capita is one of the four quantitative factors that contribute to a country's HDI measurement. In fact, the correlation between GDP per capita and HDI is so strong in the figure above that we may (correctly) assume that the log of GNI is used in the [HDI calculation](https://hdr.undp.org/system/files/documents/technical-notes-calculating-human-development-indices.pdf) (to reflect the diminishing importance of income with increasing GNI).\n",
    "\n",
    "### 3.2 Income: **Gross National Income (GNI)**\n",
    "Access the GNI data [here](https://ourworldindata.org/grapher/gni-per-capita-vs-gdp-per-capita) from Our World in Data."
   ]
  },
  {
   "cell_type": "code",
   "execution_count": null,
   "id": "0eeaa48f",
   "metadata": {
    "colab": {
     "base_uri": "https://localhost:8080/",
     "height": 449
    },
    "executionInfo": {
     "elapsed": 8,
     "status": "ok",
     "timestamp": 1708491682929,
     "user": {
      "displayName": "Margaret",
      "userId": "11058491644087038495"
     },
     "user_tz": 300
    },
    "id": "0eeaa48f",
    "outputId": "468144ac-f87e-4088-cb96-1364f18fe61f"
   },
   "outputs": [],
   "source": [
    "# Visualise the relationship between GDP and GNI\n",
    "fig, ax = plt.subplots(dpi=100)\n",
    "ax.plot(data_gni.gdppc, data_gni.gni, 'ro', mfc='none')\n",
    "ax.set_xlabel('GDP per capita (international $)')\n",
    "ax.set_ylabel('GNI per capita (international $)')\n",
    "plt.show()"
   ]
  },
  {
   "cell_type": "markdown",
   "id": "591a881a",
   "metadata": {
    "id": "591a881a"
   },
   "source": [
    "### 3.3 Health: **Average life expectancy at birth**\n",
    "Access the life expectancy data [here](https://ourworldindata.org/grapher/life-expectancy-vs-gdp-per-capita?tab=table&time=2019) from Our World in Data."
   ]
  },
  {
   "cell_type": "code",
   "execution_count": null,
   "id": "235edfb9",
   "metadata": {
    "colab": {
     "base_uri": "https://localhost:8080/",
     "height": 449
    },
    "executionInfo": {
     "elapsed": 397,
     "status": "ok",
     "timestamp": 1708491683320,
     "user": {
      "displayName": "Margaret",
      "userId": "11058491644087038495"
     },
     "user_tz": 300
    },
    "id": "235edfb9",
    "outputId": "b2fb569d-e987-40ef-f077-d8628adf51d4"
   },
   "outputs": [],
   "source": [
    "# Visualise the relationship between GDP and life expectancy\n",
    "fig, ax = plt.subplots(dpi=100)\n",
    "ax.plot(data_lifeexp.gdppc, data_lifeexp.life_exp, 'mo', mfc='none')\n",
    "ax.set_xlabel('GDP per capita (international $)')\n",
    "ax.set_ylabel('Average life expectancy (years)')\n",
    "plt.show()"
   ]
  },
  {
   "cell_type": "markdown",
   "id": "9f44c6ab",
   "metadata": {
    "id": "9f44c6ab"
   },
   "source": [
    "It appears like there is a very high linear correlation between GDP per capita and average life expectancy for low-income countries, but almost no correlation at all for high-income countries. To investigate this, we can break up the data into lower-income and higher-income (truncated at a GDP per capita of 28,000 international $)."
   ]
  },
  {
   "cell_type": "code",
   "execution_count": null,
   "id": "70e68fc1",
   "metadata": {
    "colab": {
     "base_uri": "https://localhost:8080/",
     "height": 581
    },
    "executionInfo": {
     "elapsed": 222,
     "status": "ok",
     "timestamp": 1708491683539,
     "user": {
      "displayName": "Margaret",
      "userId": "11058491644087038495"
     },
     "user_tz": 300
    },
    "id": "70e68fc1",
    "outputId": "6eb79a66-8e8e-455c-8d65-440c3b5a92e8"
   },
   "outputs": [],
   "source": [
    "gdppc_lowincome = []; lifeexp_lowincome = [];\n",
    "gdppc_highincome = []; lifeexp_highincome = [];\n",
    "\n",
    "for i in range(len(data_lifeexp.gdppc)):\n",
    "    if data_lifeexp.gdppc[i] < 28000:\n",
    "        gdppc_lowincome.append(data_lifeexp.gdppc[i])\n",
    "        lifeexp_lowincome.append(data_lifeexp.life_exp[i])\n",
    "    else:\n",
    "        gdppc_highincome.append(data_lifeexp.gdppc[i])\n",
    "        lifeexp_highincome.append(data_lifeexp.life_exp[i])\n",
    "\n",
    "fig, ax = plt.subplots(nrows=2, ncols=1, dpi=120, sharey=True)\n",
    "ax[0].plot(gdppc_lowincome, lifeexp_lowincome, 'mo', mfc='none',label=\"Data\")\n",
    "ax[1].plot(gdppc_highincome, lifeexp_highincome, 'mo', mfc='none',label=\"Data\")\n",
    "ax[1].set_xlabel('GDP per capita (international $)')\n",
    "ax[0].set_title('Low income')\n",
    "ax[1].set_title('High income')\n",
    "fig.text(-0.02, 0.5, 'Average life expectancy (years)', va='center', rotation='vertical')\n",
    "fig.tight_layout()\n",
    "\n",
    "plt.show()"
   ]
  },
  {
   "cell_type": "markdown",
   "id": "c3d43232",
   "metadata": {
    "id": "c3d43232"
   },
   "source": [
    "We can see that there is a steadily-increasing relationship between GDP per capita and average life expectancy for low-income countries, and, as expected, almost no correlation at all for high-income countries. This is likely because many premature deaths in low-income countries are caused by preventable diseases such as malaria, HIV/AIDS, cholera and tuberculosis. Small increases in GDP per capita for low-income countries can provide individuals with improved accessibility and availability of treatments for these preventable diseases. For example, malaria treatment in Nigeria costs on average [32 USD per case](https://www.ncbi.nlm.nih.gov/pmc/articles/PMC5691839/), which requires a relatively small increase in GDP per capita for potentially life-saving treatment. Deaths in higher-income countries are often caused by non-preventable and/or lifestyle diseases (such as heart disease or cancer), which currently present the \"biological limit\" for humans (life expectancy of ~85 years).\n",
    "\n",
    "### 3.4 Education: Average years of schooling\n",
    "Access the mean number of schooling years data [here](https://ourworldindata.org/grapher/average-years-of-schooling-vs-gdp-per-capita) from Our World in Data."
   ]
  },
  {
   "cell_type": "code",
   "execution_count": null,
   "id": "31e58b7a",
   "metadata": {
    "colab": {
     "base_uri": "https://localhost:8080/",
     "height": 454
    },
    "executionInfo": {
     "elapsed": 362,
     "status": "ok",
     "timestamp": 1708491683897,
     "user": {
      "displayName": "Margaret",
      "userId": "11058491644087038495"
     },
     "user_tz": 300
    },
    "id": "31e58b7a",
    "outputId": "70ece719-ef51-41db-8a3c-197bd5e856bd"
   },
   "outputs": [],
   "source": [
    "# Visualise relationship between energy consumption and GDP\n",
    "fig, ax = plt.subplots(dpi=100)\n",
    "ax.plot(data_education.gdppc, data_education.schooling, 'yo', mfc='none')\n",
    "ax.set_xlabel('GDP per capita (international $)')\n",
    "ax.set_ylabel('Average years of schooling')\n",
    "ax.set_xscale(\"log\")\n",
    "plt.show()"
   ]
  },
  {
   "cell_type": "markdown",
   "id": "43c1ad12",
   "metadata": {
    "id": "43c1ad12"
   },
   "source": [
    "We can see that the relationship is fairly weak and especially poorly correlated for high-income countries (GDP per capita above 50,000 international $). Hence, above a certain GDP per capita, further expenditures on schooling do not neccessarily lead to a more educated population. We can visualise this by plotting the correlation for low-income and high-income countries."
   ]
  },
  {
   "cell_type": "code",
   "execution_count": null,
   "id": "5fa8d1ee",
   "metadata": {
    "colab": {
     "base_uri": "https://localhost:8080/",
     "height": 581
    },
    "executionInfo": {
     "elapsed": 570,
     "status": "ok",
     "timestamp": 1708491684460,
     "user": {
      "displayName": "Margaret",
      "userId": "11058491644087038495"
     },
     "user_tz": 300
    },
    "id": "5fa8d1ee",
    "outputId": "b382b6bb-99c4-45cd-de0d-83d978b147a7"
   },
   "outputs": [],
   "source": [
    "gdppc_lowincome = []; education_lowincome = [];\n",
    "gdppc_highincome = []; education_highincome = [];\n",
    "\n",
    "for i in range(len(data_education.gdppc)):\n",
    "    if data_education.gdppc[i] < 28000:\n",
    "        gdppc_lowincome.append(data_education.gdppc[i])\n",
    "        education_lowincome.append(data_education.schooling[i])\n",
    "    else:\n",
    "        gdppc_highincome.append(data_education.gdppc[i])\n",
    "        education_highincome.append(data_education.schooling[i])\n",
    "\n",
    "fig, ax = plt.subplots(nrows=2, ncols=1, dpi=120, sharey=True)\n",
    "ax[0].plot(gdppc_lowincome, education_lowincome, 'yo', mfc='none',label=\"Data\")\n",
    "ax[1].plot(gdppc_highincome, education_highincome, 'yo', mfc='none',label=\"Data\")\n",
    "ax[1].set_xlabel('GDP per capita (international $)')\n",
    "ax[0].set_title('Low income')\n",
    "ax[1].set_title('High income')\n",
    "fig.text(-0.02, 0.5, 'Average years of schooling', va='center', rotation='vertical')\n",
    "fig.tight_layout()\n",
    "\n",
    "plt.show()"
   ]
  },
  {
   "cell_type": "markdown",
   "id": "36321919",
   "metadata": {
    "id": "36321919"
   },
   "source": [
    "### 3.5 Energy: **Primary energy consumption**\n",
    "The energy consumption against GDP per capita data is available from [Our World in Data](https://ourworldindata.org/grapher/energy-use-per-person-vs-gdp-per-capita). We will plot both the raw data as well as the data with a linear line of best fit."
   ]
  },
  {
   "cell_type": "code",
   "execution_count": null,
   "id": "ef3449ad",
   "metadata": {
    "colab": {
     "base_uri": "https://localhost:8080/"
    },
    "executionInfo": {
     "elapsed": 6,
     "status": "ok",
     "timestamp": 1708491684460,
     "user": {
      "displayName": "Margaret",
      "userId": "11058491644087038495"
     },
     "user_tz": 300
    },
    "id": "ef3449ad",
    "outputId": "6f4490b9-a712-4ddb-8676-d4f26fe5731d"
   },
   "outputs": [],
   "source": [
    "params, _ = scipy.optimize.curve_fit(lambda t,a,b: a+b*t,  data_energy.gdppc,  data_energy.eupc)\n",
    "params"
   ]
  },
  {
   "cell_type": "code",
   "execution_count": null,
   "id": "01fbb4a4",
   "metadata": {
    "colab": {
     "base_uri": "https://localhost:8080/",
     "height": 754
    },
    "executionInfo": {
     "elapsed": 405,
     "status": "ok",
     "timestamp": 1708491684862,
     "user": {
      "displayName": "Margaret",
      "userId": "11058491644087038495"
     },
     "user_tz": 300
    },
    "id": "01fbb4a4",
    "outputId": "f04b52c4-333d-4b98-a000-b30cf5364163"
   },
   "outputs": [],
   "source": [
    "gdppc_ind = data_energy.gdppc.argsort()\n",
    "sorted_gdppc = data_energy.gdppc[gdppc_ind]\n",
    "sorted_energy = data_energy.eupc[gdppc_ind]\n",
    "\n",
    "energy_bestfit = 2323.7 + 1.2*sorted_gdppc\n",
    "\n",
    "fig, ax = plt.subplots(nrows=1, ncols=2, dpi=150, sharey=True)\n",
    "\n",
    "ax[0].plot(data_energy.gdppc, data_energy.eupc, 'go', mfc='none')\n",
    "ax[0].set_ylabel('Primary energy consumption per capita (kWh)')\n",
    "ax[0].set_yscale(\"log\")\n",
    "ax[1].plot(data_energy.gdppc, data_energy.eupc, 'go', mfc='none',label=\"Data\")\n",
    "ax[1].plot(sorted_gdppc, energy_bestfit,'--r',label=\"Fit\")\n",
    "ax[1].set_yscale(\"log\")\n",
    "ax[1].legend()\n",
    "fig.text(0.35, 0, 'GDP per capita (international $)', va='center', rotation='horizontal')\n",
    "fig.tight_layout()\n",
    "plt.show()"
   ]
  },
  {
   "cell_type": "markdown",
   "id": "2299df28",
   "metadata": {
    "id": "2299df28"
   },
   "source": [
    "We can add a residuals plot to extract information from the deviation from the line of best fit."
   ]
  },
  {
   "cell_type": "code",
   "execution_count": null,
   "id": "308e9c56",
   "metadata": {
    "colab": {
     "base_uri": "https://localhost:8080/",
     "height": 449
    },
    "executionInfo": {
     "elapsed": 348,
     "status": "ok",
     "timestamp": 1708491685203,
     "user": {
      "displayName": "Margaret",
      "userId": "11058491644087038495"
     },
     "user_tz": 300
    },
    "id": "308e9c56",
    "outputId": "06f85c68-adb0-4bc9-baca-49d39ba2a41f"
   },
   "outputs": [],
   "source": [
    "gdppc_energy_residual = sorted_energy - energy_bestfit\n",
    "\n",
    "fig, ax = plt.subplots(dpi=100)\n",
    "ax.stem(sorted_gdppc, gdppc_energy_residual, 'bo')\n",
    "ax.set_xlabel('GDP per capita (international $)')\n",
    "ax.set_ylabel('Residual against line of best fit')\n",
    "plt.show()"
   ]
  },
  {
   "cell_type": "markdown",
   "id": "b45e1c37",
   "metadata": {
    "id": "b45e1c37"
   },
   "source": [
    "We can make some generalisations from this residuals plot. In general, the line of best fit tends to overestimate the true energy consumption per capita, which is likely due to several outstanding outliers in very high energy use for relatively low GDP per capita (Turkmenistan, Iceland, Russia, Kazakstan, UAE, Kuwait, Oman, Trinidad and Tobago). These countries are all rich in natural gas and oil, so we can see that the effect of GDP per capita on energy use may be overshadowed by natural resource abundance and quality (as well as government regulation).\n",
    "\n",
    "### 3.6 Infant mortality: Child mortality rate\n",
    "One further factor that we can investigate is the correlation between GDP per capita and child mortality rate (which is the number of infants whom die before the age of five). The data is available from [Our World in Data](https://ourworldindata.org/grapher/child-mortality-gdp-per-capita?tab=table&time=2018)."
   ]
  },
  {
   "cell_type": "code",
   "execution_count": null,
   "id": "9df761d8",
   "metadata": {
    "colab": {
     "base_uri": "https://localhost:8080/",
     "height": 454
    },
    "executionInfo": {
     "elapsed": 254,
     "status": "ok",
     "timestamp": 1708491685453,
     "user": {
      "displayName": "Margaret",
      "userId": "11058491644087038495"
     },
     "user_tz": 300
    },
    "id": "9df761d8",
    "outputId": "d849f0c2-2a94-43f0-e96a-368458b00ba0"
   },
   "outputs": [],
   "source": [
    "# Visualise relationship between GDP and child mortality rate\n",
    "fig, ax = plt.subplots(dpi=100)\n",
    "ax.plot(data_mortality.gdppc, data_mortality.rate, 'bo', mfc='none')\n",
    "ax.set_xlabel('GDP per capita (international $)')\n",
    "ax.set_ylabel('Child mortality rate (%)')\n",
    "ax.set_yscale(\"log\")\n",
    "ax.set_xscale(\"log\")\n",
    "plt.show()"
   ]
  },
  {
   "cell_type": "markdown",
   "id": "66b16254",
   "metadata": {
    "id": "66b16254"
   },
   "source": [
    "From this data, we can see that, in general, child mortality decreases with increasing GDP per capita approximately  exponentially. This relationship is to be expected - better economic conditions create better health outcomes through better health care, more nutritious diets, and better health-related knowledge. Additionally, access to health personnel and health facilities such as midwifes, doctors, health posts and clinics would increase with higher GDP per capita, leading to less birth fatalities."
   ]
  },
  {
   "cell_type": "markdown",
   "id": "fec5181b",
   "metadata": {
    "id": "fec5181b"
   },
   "source": [
    "## 4. GDP and Enviroment\n",
    "\n",
    "\n",
    "GDP sometimes disregards for the environmental costs of economic activities. GDP measures the market value of goods and services produced within a country without subtracting the negative externalities, such as:\n",
    "- Pollution\n",
    "- Resource depletion\n",
    "- Global Warming\n",
    "- Loss of biodiversity\n",
    "\n",
    "\n",
    "This oversight means activities harming the environment can actually contribute to GDP growth, creating a perverse incentive structure that rewards short-term economic gains at the expense of long-term sustainability.  "
   ]
  },
  {
   "cell_type": "markdown",
   "id": "7SwD7Z79kARj",
   "metadata": {
    "id": "7SwD7Z79kARj"
   },
   "source": [
    "### 4.1. Temperature Anomaly vs. World GDP"
   ]
  },
  {
   "cell_type": "markdown",
   "id": "X-X4B81okDIE",
   "metadata": {
    "id": "X-X4B81okDIE"
   },
   "source": [
    "Consider the following diagram of Temperature Anomaly vs. World GDP"
   ]
  },
  {
   "cell_type": "code",
   "execution_count": null,
   "id": "88a49879",
   "metadata": {
    "colab": {
     "base_uri": "https://localhost:8080/",
     "height": 564
    },
    "executionInfo": {
     "elapsed": 288,
     "status": "ok",
     "timestamp": 1708491685737,
     "user": {
      "displayName": "Margaret",
      "userId": "11058491644087038495"
     },
     "user_tz": 300
    },
    "id": "88a49879",
    "outputId": "618a5e85-b5b4-451e-ab9e-61e8e2257348"
   },
   "outputs": [],
   "source": [
    "data = pd.read_excel('Temperature Anomaly.xlsx')\n",
    "plt.figure(figsize=(10, 6))\n",
    "\n",
    "ax1 = plt.gca() \n",
    "ax1.plot(data['Year'], data['GDP per Capita'], label='GDP per capita', color='indigo', marker='o')\n",
    "ax1.set_xlabel('Year')\n",
    "ax1.set_ylabel('GDP per Capita', color='blue')\n",
    "\n",
    "ax2 = ax1.twinx()\n",
    "ax2.plot(data['Year'], data['Mann and Jones (2003)'], label='Mann and Jones (2003)', color='salmon', marker='.')\n",
    "ax2.plot(data['Year'], data['Climate Research Unit Record'], label='Climate Research Unit Record', color='lightblue', marker='.')\n",
    "ax2.set_ylabel('Temperature Anomaly')\n",
    "\n",
    "plt.title('GDP per Capita and Temperature Anomaly vs. Year')\n",
    "\n",
    "lines, labels = ax1.get_legend_handles_labels()\n",
    "lines2, labels2 = ax2.get_legend_handles_labels()\n",
    "ax2.legend(lines + lines2, labels + labels2, loc='upper left')\n",
    "plt.show()\n"
   ]
  },
  {
   "cell_type": "markdown",
   "id": "7a600191",
   "metadata": {
    "id": "7a600191"
   },
   "source": [
    "Temperature anomaly measures the difference between the temperature of the current year and the long-term average. A positive figure indicates that the temperature was warmer than the average value, and vice versa.\n",
    "\n",
    "From 1500 to 2023, as GDP per Capita increases the golbal Temperature Anomaly increases as well. The relationship can be seen more clearly by plotting World GDP against Temperature Anomaly:"
   ]
  },
  {
   "cell_type": "code",
   "execution_count": null,
   "id": "1ccd08f6",
   "metadata": {
    "colab": {
     "base_uri": "https://localhost:8080/",
     "height": 542
    },
    "executionInfo": {
     "elapsed": 124,
     "status": "ok",
     "timestamp": 1708491695143,
     "user": {
      "displayName": "Margaret",
      "userId": "11058491644087038495"
     },
     "user_tz": 300
    },
    "id": "1ccd08f6",
    "outputId": "33b1f4c1-2f1a-4881-85e3-4932c55a8bb4"
   },
   "outputs": [],
   "source": [
    "data = pd.read_excel('GDP.xlsx', sheet_name='Temperature')\n",
    "\n",
    "fig = px.scatter(data, x='World GDP', y='Temperature Anomaly',\n",
    "                 hover_name='Year', title='Temperature Anomaly vs. World GDP')\n",
    "\n",
    "\n",
    "fig.update_layout(\n",
    "    xaxis_title=\"GDP ($ trillions)\",\n",
    "    yaxis_title=\"Temperature Anomaly(Degree C)\",\n",
    "    xaxis_gridcolor='lightgrey',\n",
    "    yaxis_gridcolor='lightgrey',\n",
    ")\n",
    "\n",
    "fig.show()"
   ]
  },
  {
   "cell_type": "markdown",
   "id": "cf6dca97",
   "metadata": {
    "id": "cf6dca97"
   },
   "source": [
    "Source: The World Bank and National Oceanic and Atmospheric Administration, Earth System Research Laboratory, Global Monitoring Division"
   ]
  },
  {
   "cell_type": "code",
   "execution_count": null,
   "id": "747a8fcb",
   "metadata": {
    "colab": {
     "base_uri": "https://localhost:8080/"
    },
    "executionInfo": {
     "elapsed": 6,
     "status": "ok",
     "timestamp": 1708491695326,
     "user": {
      "displayName": "Margaret",
      "userId": "11058491644087038495"
     },
     "user_tz": 300
    },
    "id": "747a8fcb",
    "outputId": "71e4f894-5c7d-4ccf-ab27-4aa4682a49b9",
    "scrolled": true
   },
   "outputs": [],
   "source": [
    "correlation = data['World GDP'].corr(data['Temperature Anomaly'])\n",
    "print(f\"The Pearson correlation coefficient is: {correlation}\")"
   ]
  },
  {
   "cell_type": "markdown",
   "id": "a0db3ff6",
   "metadata": {
    "id": "a0db3ff6"
   },
   "source": [
    "The graph shows more clearly that as the world GDP increases throughout the years, the temperature anomaly also tends to increase.\n",
    "\n",
    "The Pearson correlation coefficient for this set of data is 0.9317515940963721, which indicates a very strong positive linear relationship between the temperature anomaly and the World GDP.\n",
    "\n",
    "This could suggest that as economic activity (measured by GDP) increases, there is a corresponding increase in the average temperature anomaly, which could be interpreted as an indicator of global warming."
   ]
  },
  {
   "cell_type": "markdown",
   "id": "R9cc5oH5kE5v",
   "metadata": {
    "id": "R9cc5oH5kE5v"
   },
   "source": [
    "### 4.2. Ecological State (Temperature Anamoly & CO2 Emissions) vs. World GDP"
   ]
  },
  {
   "cell_type": "code",
   "execution_count": null,
   "id": "41fe289c",
   "metadata": {
    "executionInfo": {
     "elapsed": 271,
     "status": "ok",
     "timestamp": 1708491695593,
     "user": {
      "displayName": "Margaret",
      "userId": "11058491644087038495"
     },
     "user_tz": 300
    },
    "id": "41fe289c"
   },
   "outputs": [],
   "source": [
    "carbon_temp_gdp_df = pd.read_csv('carbon_temp_gdp_df.csv')"
   ]
  },
  {
   "cell_type": "code",
   "execution_count": null,
   "id": "7nhL1lGX-LCH",
   "metadata": {
    "colab": {
     "base_uri": "https://localhost:8080/",
     "height": 206
    },
    "executionInfo": {
     "elapsed": 8,
     "status": "ok",
     "timestamp": 1708491695594,
     "user": {
      "displayName": "Margaret",
      "userId": "11058491644087038495"
     },
     "user_tz": 300
    },
    "id": "7nhL1lGX-LCH",
    "outputId": "1cf76392-add8-4404-ed3d-db552a0e86f0"
   },
   "outputs": [],
   "source": [
    "carbon_temp_gdp_df.head()"
   ]
  },
  {
   "cell_type": "code",
   "execution_count": null,
   "id": "QSNUehbWhWmh",
   "metadata": {
    "colab": {
     "base_uri": "https://localhost:8080/",
     "height": 718
    },
    "executionInfo": {
     "elapsed": 987,
     "status": "ok",
     "timestamp": 1708491765236,
     "user": {
      "displayName": "Margaret",
      "userId": "11058491644087038495"
     },
     "user_tz": 300
    },
    "id": "QSNUehbWhWmh",
    "outputId": "39b5ac4f-a81d-4158-845d-8a19ad8da04b"
   },
   "outputs": [],
   "source": [
    "# Create a figure and axis objects with a larger figure size\n",
    "fig, ax1 = plt.subplots(figsize=(12, 8))\n",
    "\n",
    "# Plot the Temperature Anomaly columns\n",
    "ax1.plot(carbon_temp_gdp_df['Year '], carbon_temp_gdp_df['Temperature Anomaly\\n(deg C)'], color='red', label='Temperature Anomaly')\n",
    "ax1.plot(carbon_temp_gdp_df['Year '], carbon_temp_gdp_df['Smoothed Temperature Anomaly\\n(deg C)'], color='orange', label='Smoothed Temperature Anomaly')\n",
    "ax1.set_ylabel('Temperature Anomaly (Degrees Celsius)')\n",
    "\n",
    "# Create a second y-axis for total_gdp and annual CO₂ emissions\n",
    "ax2 = ax1.twinx()\n",
    "ax2.plot(carbon_temp_gdp_df['Year '], carbon_temp_gdp_df['total_gdp'], color='blue', label='Total GDP')\n",
    "ax2.plot(carbon_temp_gdp_df['Year '], carbon_temp_gdp_df['Annual CO₂ emissions'], color='green', label='Annual CO₂ emissions')\n",
    "ax2.set_ylabel('Total GDP (Billions) / Annual CO₂ emissions (Billions)')\n",
    "\n",
    "# Set the labels and legends\n",
    "ax1.set_xlabel('Year')\n",
    "ax1.legend(loc='upper left')\n",
    "ax2.legend(loc='upper right')\n",
    "\n",
    "# Display the graph\n",
    "plt.title('Carbon Emissions, Temperature Anomaly, and Total GDP Over Time')\n",
    "plt.show()"
   ]
  },
  {
   "cell_type": "code",
   "execution_count": null,
   "id": "SRwatMqgh_-U",
   "metadata": {
    "executionInfo": {
     "elapsed": 5,
     "status": "ok",
     "timestamp": 1708491696356,
     "user": {
      "displayName": "Margaret",
      "userId": "11058491644087038495"
     },
     "user_tz": 300
    },
    "id": "SRwatMqgh_-U"
   },
   "outputs": [],
   "source": []
  }
 ],
 "metadata": {
  "colab": {
   "provenance": []
  },
  "kernelspec": {
   "display_name": "Python 3 (ipykernel)",
   "language": "python",
   "name": "python3"
  },
  "language_info": {
   "codemirror_mode": {
    "name": "ipython",
    "version": 3
   },
   "file_extension": ".py",
   "mimetype": "text/x-python",
   "name": "python",
   "nbconvert_exporter": "python",
   "pygments_lexer": "ipython3",
   "version": "3.10.12"
  }
 },
 "nbformat": 4,
 "nbformat_minor": 5
}
